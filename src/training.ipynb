{
 "cells": [
  {
   "cell_type": "code",
   "execution_count": 1,
   "id": "95bc30df",
   "metadata": {},
   "outputs": [
    {
     "name": "stdout",
     "output_type": "stream",
     "text": [
      "accuracy score\n",
      " 0.701844262295082\n",
      "classification report\n",
      "               precision    recall  f1-score   support\n",
      "\n",
      "           0       0.69      0.99      0.81      1835\n",
      "           1       0.73      0.20      0.32       620\n",
      "           2       0.88      0.24      0.38       473\n",
      "\n",
      "    accuracy                           0.70      2928\n",
      "   macro avg       0.77      0.48      0.50      2928\n",
      "weighted avg       0.73      0.70      0.64      2928\n",
      "\n"
     ]
    }
   ],
   "source": [
    "import joblib\n",
    "from sklearn.model_selection import train_test_split\n",
    "from sklearn.naive_bayes import MultinomialNB\n",
    "from sklearn.metrics import classification_report,accuracy_score\n",
    "\n",
    "X=joblib.load('../data/x.pkl')\n",
    "y=joblib.load('../data/y.pkl')\n",
    "\n",
    "X_train,X_test,y_train,y_test=train_test_split(X,y,test_size=0.2,random_state=42,stratify=y)\n",
    "model=MultinomialNB()\n",
    "model.fit(X_train,y_train)\n",
    "\n",
    "y_pred=model.predict(X_test)\n",
    "\n",
    "print('accuracy score\\n',accuracy_score(y_test,y_pred))\n",
    "print('classification report\\n',classification_report(y_test,y_pred))"
   ]
  },
  {
   "cell_type": "code",
   "execution_count": 2,
   "id": "27c29ad5",
   "metadata": {},
   "outputs": [
    {
     "name": "stdout",
     "output_type": "stream",
     "text": [
      "accuracy score\n",
      " 0.7728825136612022\n",
      "classification report\n",
      "               precision    recall  f1-score   support\n",
      "\n",
      "           0       0.81      0.94      0.87      1835\n",
      "           1       0.62      0.48      0.54       620\n",
      "           2       0.78      0.52      0.63       473\n",
      "\n",
      "    accuracy                           0.77      2928\n",
      "   macro avg       0.74      0.65      0.68      2928\n",
      "weighted avg       0.76      0.77      0.76      2928\n",
      "\n"
     ]
    }
   ],
   "source": [
    "from sklearn.linear_model import LogisticRegression\n",
    "\n",
    "logreg=LogisticRegression()\n",
    "logreg.fit(X_train,y_train)\n",
    "\n",
    "pred=logreg.predict(X_test)\n",
    "\n",
    "print('accuracy score\\n',accuracy_score(y_test,pred))\n",
    "print('classification report\\n',classification_report(y_test,pred))"
   ]
  },
  {
   "cell_type": "code",
   "execution_count": 3,
   "id": "b084c1d9",
   "metadata": {},
   "outputs": [
    {
     "data": {
      "text/plain": [
       "['../data/naivbayer.pkl']"
      ]
     },
     "execution_count": 3,
     "metadata": {},
     "output_type": "execute_result"
    }
   ],
   "source": [
    "\n",
    "joblib.dump(logreg,'../data/logisticmodel.pkl')\n",
    "joblib.dump(model,'../data/naivbayer.pkl')"
   ]
  }
 ],
 "metadata": {
  "kernelspec": {
   "display_name": "jupty",
   "language": "python",
   "name": "python3"
  },
  "language_info": {
   "codemirror_mode": {
    "name": "ipython",
    "version": 3
   },
   "file_extension": ".py",
   "mimetype": "text/x-python",
   "name": "python",
   "nbconvert_exporter": "python",
   "pygments_lexer": "ipython3",
   "version": "3.13.2"
  }
 },
 "nbformat": 4,
 "nbformat_minor": 5
}
