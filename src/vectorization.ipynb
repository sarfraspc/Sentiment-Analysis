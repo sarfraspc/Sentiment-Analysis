{
 "cells": [
  {
   "cell_type": "code",
   "execution_count": 1,
   "id": "e17448d6",
   "metadata": {},
   "outputs": [
    {
     "data": {
      "text/plain": [
       "['../data/label_encoder.pkl']"
      ]
     },
     "execution_count": 1,
     "metadata": {},
     "output_type": "execute_result"
    }
   ],
   "source": [
    "from sklearn.feature_extraction.text import TfidfVectorizer\n",
    "import pandas as pd\n",
    "from sklearn.preprocessing import LabelEncoder,OneHotEncoder\n",
    "from scipy.sparse import hstack\n",
    "import joblib\n",
    "\n",
    "df = pd.read_csv('../data/cleaned_tweets.csv')\n",
    "tfidf = TfidfVectorizer(stop_words='english', max_df=0.9)\n",
    "df['cleaned_text'] = df['cleaned_text'].fillna('')\n",
    "x_text = tfidf.fit_transform(df['cleaned_text'])\n",
    "\n",
    "ohe = OneHotEncoder(sparse_output=True)\n",
    "x_airline = ohe.fit_transform(df[['airline']])\n",
    "\n",
    "\n",
    "X = hstack((x_text,x_airline))\n",
    "\n",
    "y = df['airline_sentiment']\n",
    "le = LabelEncoder()\n",
    "y = le.fit_transform(y)\n",
    "\n",
    "joblib.dump(X,'../data/x.pkl')\n",
    "joblib.dump(y,'../data/y.pkl')\n",
    "joblib.dump(tfidf, '../data/tfidf_vectorizer.pkl')\n",
    "joblib.dump(ohe, '../data/airline_encoder.pkl')\n",
    "joblib.dump(le, '../data/label_encoder.pkl')\n"
   ]
  }
 ],
 "metadata": {
  "kernelspec": {
   "display_name": "jupty",
   "language": "python",
   "name": "python3"
  },
  "language_info": {
   "codemirror_mode": {
    "name": "ipython",
    "version": 3
   },
   "file_extension": ".py",
   "mimetype": "text/x-python",
   "name": "python",
   "nbconvert_exporter": "python",
   "pygments_lexer": "ipython3",
   "version": "3.13.2"
  }
 },
 "nbformat": 4,
 "nbformat_minor": 5
}
